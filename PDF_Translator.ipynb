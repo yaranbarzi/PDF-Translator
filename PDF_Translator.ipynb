{
  "nbformat": 4,
  "nbformat_minor": 0,
  "metadata": {
    "colab": {
      "provenance": [],
      "gpuType": "T4",
      "collapsed_sections": [
        "dggJ6OF0Xjsk"
      ]
    },
    "kernelspec": {
      "name": "python3",
      "display_name": "Python 3"
    },
    "language_info": {
      "name": "python"
    },
    "accelerator": "GPU"
  },
  "cells": [
    {
      "cell_type": "markdown",
      "source": [
        "#Install"
      ],
      "metadata": {
        "id": "dggJ6OF0Xjsk"
      }
    },
    {
      "cell_type": "code",
      "source": [
        "#@title download font\n",
        "!wget https://github.com/rastikerdar/vazir-font/releases/download/v30.1.0/Vazir-font-v30.1.0.zip\n",
        "!unzip Vazir-font-v30.1.0.zip -d /usr/share/fonts/truetype/"
      ],
      "metadata": {
        "cellView": "form",
        "id": "GVOpj4wMVfWO"
      },
      "execution_count": null,
      "outputs": []
    },
    {
      "cell_type": "code",
      "source": [
        "#@title نصب کتابخانه‌های مورد نیاز\n",
        "!pip install PyPDF2\n",
        "!pip install google-generativeai\n",
        "!pip install tqdm\n",
        "!pip install reportlab\n",
        "!pip install arabic-reshaper"
      ],
      "metadata": {
        "id": "sMUHXCmrAxZv",
        "cellView": "form"
      },
      "execution_count": null,
      "outputs": []
    },
    {
      "cell_type": "markdown",
      "source": [
        "# Settings"
      ],
      "metadata": {
        "id": "0OQzb1u9X23_"
      }
    },
    {
      "cell_type": "code",
      "source": [
        "\n",
        "#@title فراخوانی کلید دسترسی\n",
        "import google.generativeai as genai\n",
        "\n",
        "GOOGLE_API_KEY = \"\" #@param {type:\"string\"}\n",
        "genai.configure(api_key=GOOGLE_API_KEY)"
      ],
      "metadata": {
        "cellView": "form",
        "id": "3you3uNiA2r9"
      },
      "execution_count": null,
      "outputs": []
    },
    {
      "cell_type": "code",
      "source": [
        "#@title آپلود و تنظیم صفحات\n",
        "from google.colab import files\n",
        "import PyPDF2\n",
        "import io\n",
        "\n",
        "# دریافت ورودی صفحات از کاربر\n",
        "start_page = 1  #@param {type:\"slider\", min:1, max:1000, step:1}\n",
        "end_page = 1  #@param {type:\"slider\", min:1, max:1000, step:1}\n",
        "\n",
        "# آپلود فایل\n",
        "uploaded = files.upload()\n",
        "\n",
        "if not uploaded:\n",
        "    raise ValueError(\"هیچ فایلی آپلود نشد. لطفاً یک فایل PDF آپلود کنید.\")\n",
        "\n",
        "filename = list(uploaded.keys())[0]\n",
        "\n",
        "# بررسی فرمت فایل\n",
        "if not filename.lower().endswith('.pdf'):\n",
        "    raise ValueError(\"فرمت فایل اشتباه است. لطفاً یک فایل PDF آپلود کنید.\")\n",
        "\n",
        "# خواندن فایل PDF\n",
        "pdf_reader = PyPDF2.PdfReader(io.BytesIO(uploaded[filename]))\n",
        "\n",
        "# بررسی محدوده صفحات\n",
        "num_pages = len(pdf_reader.pages)\n",
        "if start_page < 1 or end_page > num_pages:\n",
        "    raise ValueError(f\"شماره صفحات باید بین 1 و {num_pages} باشد.\")"
      ],
      "metadata": {
        "cellView": "form",
        "id": "YNyB0yQXA-V9"
      },
      "execution_count": null,
      "outputs": []
    },
    {
      "cell_type": "markdown",
      "source": [
        "#Translate"
      ],
      "metadata": {
        "id": "v6A_2TYGYIDn"
      }
    },
    {
      "cell_type": "code",
      "source": [
        "\n",
        "\n",
        "#@title ترجمه به فارسی\n",
        "from tqdm.notebook import tqdm\n",
        "import time\n",
        "from tenacity import retry, stop_after_attempt, wait_exponential\n",
        "\n",
        "@retry(stop=stop_after_attempt(3), wait=wait_exponential(multiplier=1, min=4, max=10))\n",
        "def translate_page_with_retry(text):\n",
        "    model = genai.GenerativeModel('gemini-1.5-flash')\n",
        "\n",
        "    prompt = f\"\"\"متن زیر را به فارسی عامیانه و روان ترجمه کن. نکات مهم:\n",
        "\n",
        "1. فقط ترجمه خالص و عامیانه، بدون هیچ توضیح اضافه\n",
        "2. به شدت مهمه که تا معنای واقعی جملات رو درک نکنی حق ترجمه نداری\n",
        "3. استفاده از زبان محاوره‌ای و روزمره\n",
        "4. ترجمه نباید بی ربط باشه و سعی کن تا جایی که ممکنه حرفه ای عمل کنی\n",
        "5. حفظ پاراگراف بندی متن\n",
        "\n",
        "\n",
        "متن برای ترجمه:\n",
        "{text}\"\"\"\n",
        "\n",
        "    response = model.generate_content(prompt)\n",
        "    time.sleep(2)\n",
        "    return response.text\n",
        "\n",
        "# شروع ترجمه صفحات انتخاب شده\n",
        "translated_text = \"\"\n",
        "with tqdm(total=end_page-start_page+1, desc=\"ترجمه صفحات\") as pbar:\n",
        "    for page_num in range(start_page-1, end_page):\n",
        "        try:\n",
        "            page_text = pdf_reader.pages[page_num].extract_text()\n",
        "            translated_page = translate_page_with_retry(page_text)\n",
        "            translated_text += f\"\\n=== صفحه {page_num+1} ===\\n{translated_page}\\n\"\n",
        "            pbar.update(1)\n",
        "\n",
        "            # ذخیره موقت\n",
        "            translated_text_encoded = translated_text.encode('utf-8-sig').decode('utf-8-sig')\n",
        "            with open(\"translated_backup.txt\", \"w\", encoding=\"utf-8-sig\") as f:\n",
        "                f.write(translated_text_encoded)\n",
        "\n",
        "        except Exception as e:\n",
        "            print(f\"\\nخطا در صفحه {page_num+1}\")\n",
        "            raise\n",
        "\n",
        "# ذخیره نهایی\n",
        "translated_text_encoded = translated_text.encode('utf-8-sig').decode('utf-8-sig')\n",
        "with open(f\"{filename}_translated.txt\", \"w\", encoding=\"utf-8-sig\") as f:\n",
        "    f.write(translated_text_encoded)\n",
        "\n",
        "print(\"\\nترجمه با موفقیت به پایان رسید!\")"
      ],
      "metadata": {
        "cellView": "form",
        "id": "qK_cbiXnBGPR"
      },
      "execution_count": null,
      "outputs": []
    },
    {
      "cell_type": "code",
      "source": [
        "#@title دانلود\n",
        "from google.colab import files\n",
        "files.download(f\"{filename}_translated.txt\")"
      ],
      "metadata": {
        "cellView": "form",
        "id": "p5L8t-iC_wc5"
      },
      "execution_count": null,
      "outputs": []
    }
  ]
}